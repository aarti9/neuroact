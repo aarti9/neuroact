{
 "cells": [
  {
   "cell_type": "code",
   "execution_count": 1,
   "metadata": {},
   "outputs": [],
   "source": [
    "# import pandas as pd\n",
    "# import numpy as np\n",
    "# import numpy.matlib \n",
    "# from math import pow\n",
    "\n",
    "# def createDictionary(criteria='Behaviors'):\n",
    "    \n",
    "#     readFileName = \"\"\n",
    "#     saveDictName = \"\"\n",
    "#     if criteria == 'Behaviors':\n",
    "#         readFileName = \"Behaviors_5.csv\"\n",
    "#         saveDictName = \"BehaviorsDict_5.npy\"\n",
    "#     elif criteria == 'Identities':\n",
    "#         readFileName = \"Identities.csv\" \n",
    "#         saveDictName = \"IdentitiesDict.npy\"\n",
    "#     elif criteria == 'Modifiers':\n",
    "#         readFileName = \"Modifiers.csv\" \n",
    "#         saveDictName = \"ModifiersDict.npy\"\n",
    "    \n",
    "#     df = pd.read_csv(readFileName)\n",
    "#     #print(df)\n",
    "\n",
    "#     epaDict = {}\n",
    "#     for row in df.itertuples():\n",
    "#         concept = row.concept\n",
    "#         e = row.me\n",
    "#         p = row.mp\n",
    "#         a = row.ma\n",
    "#         epaDict[concept] = np.array([e,p,a])\n",
    "#     print(epaDict)    \n",
    "#     np.save(saveDictName, epaDict) \n",
    "#     return epaDict\n",
    "\n",
    "# createDictionary('Behaviors')"
   ]
  },
  {
   "cell_type": "code",
   "execution_count": 1,
   "metadata": {},
   "outputs": [
    {
     "name": "stdout",
     "output_type": "stream",
     "text": [
      "Hello Nengo!\n"
     ]
    }
   ],
   "source": [
    "import pandas as pd\n",
    "import numpy as np\n",
    "import numpy.matlib \n",
    "from math import pow\n",
    "import nengo\n",
    "from sklearn.metrics import mean_squared_error\n",
    "#from scipy.spatial import distance\n",
    "\n",
    "\n",
    "from py4j.java_gateway import JavaGateway, GatewayParameters\n",
    "gateway = JavaGateway(gateway_parameters=GatewayParameters(port=25333))\n",
    "\n",
    "calcProfile_app = gateway.entry_point\n",
    "def calcProfile(inAe,inAp,inAa,inBe,inBp,inBa,inOe,inOp,inOa,outAe, outAp, outAa, outBe, outBp, outBa, outOe, outOp, outOa):\n",
    "    value = calcProfile_app.calcProfile(inAe,inAp,inAa,inBe,inBp,inBa,inOe,inOp,inOa,outAe, outAp, outAa, outBe, outBp, outBa, outOe, outOp, outOa)\n",
    "    #print(value)\n",
    "    return value\n",
    "\n",
    "# This python version is recreated in from Interact Java Program by @author Aarti Malhotra (aarti.malhotra@uwaterloo.ca)\n",
    "\n",
    "# Function to calculate transients of actor, behavior and object once event has occurred \n",
    "# It solves Equation 11.15 for tau and Equation 11.3 for deflection in D. R. Heise, 2007. \"Expressive Order: Confirming Sentiments in Social Actions\". New York: Springer\n",
    "\n",
    "def calcTau(modifierIdentifierActorEPA, behaviorEPA, modifierIdentifierObjectEPA):   \n",
    "    \n",
    "    inAe = modifierIdentifierActorEPA[0]\n",
    "    inAp = modifierIdentifierActorEPA[1]\n",
    "    inAa = modifierIdentifierActorEPA[2]\n",
    "    inBe = behaviorEPA[0]\n",
    "    inBp = behaviorEPA[1]\n",
    "    inBa = behaviorEPA[2]\n",
    "    inOe = modifierIdentifierObjectEPA[0]\n",
    "    inOp = modifierIdentifierObjectEPA[1]\n",
    "    inOa = modifierIdentifierObjectEPA[2]\n",
    "    \n",
    "    # Transients preceding the event\n",
    "    # t = (1 Ae\tAp\tAa\tBe\tBp\tBa\tOe\tOp\tOa\tAeBe\tAeOp\tApBp\tAaBa\tBeOe\tBeOp\tBpOe\tBpOp\tAeBeOe\tAeBeOp)\n",
    "    # Note, the initial 1 in column0 is for constant, and starting from column10 is due to M coefficient matrix for ABOmale due to the true positions of index\n",
    "    # e.g. last column is AeBeOp due to Z100100010 and considering inputs at index which have 1 in (Ae\tAp\tAa\tBe\tBp\tBa\tOe\tOp\tOa)\n",
    "    t = np.array([1,inAe,inAp,inAa,inBe,inBp,inBa,inOe,inOp,inOa,inAe*inBe,inAe*inOp,inAp*inBp,inAa*inBa,inBe*inOe,inBe*inOp,inBp*inOe,inBp*inOp,inAe*inBe*inOe,inAe*inBe*inOp]) \n",
    "\n",
    "    # Coefficient matrix for ABOmale used from Interact\n",
    "    M = np.array([[-0.26,-0.1,0.14,-0.19,0.06,0.11,-0.11,-0.37,0.02],\n",
    "    [0.41,0,0.05,0.11,0,0.02,0,0,0],\n",
    "    [0,0.56,0,0,0.16,-0.06,0,0,0],\n",
    "    [0,0.06,0.64,0,0,0.27,0,0,0],\n",
    "    [0.42,-0.07,-0.06,0.53,-0.13,0.04,0.11,0.18,0.02],\n",
    "    [-0.02,0.44,0,0,0.7,0,0,-0.11,0],\n",
    "    [-0.1,0,0.29,-0.12,0,0.64,0,0,0],\n",
    "    [0.03,0.04,0,0,0.03,0,0.61,-0.08,0.03],\n",
    "    [0.06,0,0,0.05,0.01,0,0,0.66,-0.05],\n",
    "    [0,0,0,0,0,0,0.03,0.07,0.66],\n",
    "    [0.05,0,0,0,0.01,0,0.03,0,0],\n",
    "    [0.03,0,0,0,0,0,0,0,0],\n",
    "    [0,-0.05,0,0,0,0,0,0,0],\n",
    "    [0,0,-0.06,0,0,0,0,0,0],\n",
    "    [0.12,0.01,0,0.11,0.03,0,0.04,0.03,0],\n",
    "    [-0.05,0,0,-0.05,0,0,0,0.03,0],\n",
    "    [-0.05,0,0,-0.02,0,0,-0.03,0,0],\n",
    "    [0,0,0,0,0,0,0,-0.05,0],\n",
    "    [0.03,0,0,0.02,0,0,0,0,0],\n",
    "    [-0.02,0,0,0,0,0,0,0,0]])\n",
    "\n",
    "    # Transients after the event\n",
    "    tau = np.dot(t,M)\n",
    "\n",
    "    outAe = tau[0]\n",
    "    outAp = tau[1]\n",
    "    outAa = tau[2]\n",
    "    outBe = tau[3]\n",
    "    outBp = tau[4]\n",
    "    outBa = tau[5]\n",
    "    outOe = tau[6]\n",
    "    outOp = tau[7]\n",
    "    outOa = tau[8]\n",
    "\n",
    "    # Deflection for actor  \n",
    "    deflectionA = pow((outAe-inAe), 2)+pow((outAp-inAp), 2)+pow((outAa-inAa), 2)\n",
    "\n",
    "    # Deflection for object\n",
    "    deflectionO = pow((outOe-inOe), 2)+pow((outOp-inOp), 2)+pow((outOa-inOa), 2)\n",
    "\n",
    "    # Deflection overall\n",
    "    deflectionTotal = deflectionA + pow((outBe-inBe), 2)+pow((outBp-inBp), 2)+pow((outBa-inBa), 2) + deflectionO\n",
    "\n",
    "    #print(\"tau=\",tau)\n",
    "    print(\"deflectionTotal=\",deflectionTotal)\n",
    "    print(\"deflectionA=\",deflectionA)\n",
    "    print(\"deflectionO=\",deflectionO)\n",
    "\n",
    "    return tau, deflectionA, deflectionO, deflectionTotal, outAe, outAp, outAa, outBe, outBp, outBa, outOe, outOp, outOa;  \n",
    "\n",
    "\n",
    "# Function to calculate emotion of actor or object once event has occurred \n",
    "# It solves Equation 14.3 in D. R. Heise, 2007. \"Expressive Order: Confirming Sentiments in Social Actions\". New York: Springer\n",
    "\n",
    "def calcEmotion(inAe, inAp, inAa, inOe, inOp, inOa, outAe, outAp, outAa, outOe, outOp, outOa, AorO):   \n",
    "    \n",
    "    # Coefficient matrix for ABOmale from Interact\n",
    "    M = np.array([[-0.36,-0.17,-0.22],\n",
    "    [0.5,0,0],\n",
    "    [0,0.32,0],\n",
    "    [-0.23,0,0.44],\n",
    "    [0.46,0,-0.05],\n",
    "    [0,0.62,0],\n",
    "    [0,0,0.66],\n",
    "    [0.12,0,0.02],\n",
    "    [0,0.05,0.03]])\n",
    "\n",
    "    if AorO=='A':\n",
    "        IReQe = np.array([[M[7][0]*inAe,0,M[8][0]*inAe],[M[7][1]*inAe,0,M[8][1]*inAe],[M[7][2]*inAe,0,M[8][2]*inAe]])\n",
    "    else:\n",
    "        IReQe = np.array([[M[7][0]*inOe,0,M[8][0]*inOe],[M[7][1]*inOe,0,M[8][1]*inOe],[M[7][2]*inOe,0,M[8][2]*inOe]])\n",
    "\n",
    "    IRpQp = np.array([[0,0,0],[0,0,0],[0,0,0]])\n",
    "    IRaQa = np.array([[0,0,0],[0,0,0],[0,0,0]])\n",
    "\n",
    "    P = np.array([[0.5,0,-0.23],[0,0.32,0],[0,0,0.44]])\n",
    "    R = np.array([[0.46,0,0],[0,0.62,0],[-0.05,0,0.66]])\n",
    "\n",
    "    # Fundamental for Actor or Object\n",
    "    if AorO=='A':\n",
    "        r = np.array([inAe, inAp, inAa])\n",
    "    else:\n",
    "        r = np.array([inOe, inOp, inOa])\n",
    "\n",
    "    # P + IRe*Qe + IRp*Qp + IRa*Qa\n",
    "    P = P + IReQe + IRpQp + IRaQa\n",
    "    #print(\"P=\",P)\n",
    "\n",
    "    # inv(P + IRe*Qe + IRp*Qp + IRa*Qa)\n",
    "    Pinv = np.linalg.inv(P)\n",
    "    #print(\"Pinv=\",Pinv)\n",
    "\n",
    "    # tau-d\n",
    "    if AorO=='A':\n",
    "        tau_d = np.array([outAe-M[0][0],outAp-M[0][1],outAa-M[0][2]]) \n",
    "    else:\n",
    "        tau_d = np.array([outOe-M[0][0],outOp-M[0][1],outOa-M[0][2]]) \n",
    "\n",
    "    #print(\"tau_d=\",tau_d)\n",
    "\n",
    "    # Rr\n",
    "    Rr = np.matmul(R,r)\n",
    "    #print(\"Rr=\",Rr)\n",
    "    #print(\"r=\",r)\n",
    "\n",
    "    # tau-d-Rr or tau-Rr-d\n",
    "    tau_d_Rr = tau_d - Rr\n",
    "    #print(\"tau_d_Rr=\",tau_d_Rr)  \n",
    "\n",
    "    # inv(P + IRe*Qe + IRp*Qp + IRa*Qa)*(tau-Rr-d)\n",
    "    emotionEPA = np.matmul(Pinv,tau_d_Rr)\n",
    "    print(\"emotion EPA=\",emotionEPA)\n",
    "    \n",
    "    distVector = calcDistVector(emotionEPA, 'Modifiers')\n",
    "\n",
    "    #print(distVector)\n",
    "    print(\"Min dist index: \", end =\"\")\n",
    "    print(np.argmin(distVector))\n",
    "    minDist = get_nth_key(np.argmin(distVector),'Modifiers')\n",
    "    print(\" Key: \", end =\"\")\n",
    "    print(minDist)\n",
    "\n",
    "    return minDist;  \n",
    "\n",
    "\n",
    "# In[24]:\n",
    "\n",
    "\n",
    "def calcCombinedIdentityModifierEPA(modifierEPA,identityEPA):\n",
    "    # Coefficient matrix for ABOmale from Interact\n",
    "    M_0 = np.array([-0.36,-0.17,-0.22])\n",
    "\n",
    "    # Coefficient matrix for ABOmale from Interact\n",
    "    M6_1 = np.array([[0.5,0,0],\n",
    "    [0,0.32,0],\n",
    "    [-0.23,0,0.44]])\n",
    "\n",
    "    M6_2 = np.array([[0.46,0,-0.05],\n",
    "    [0,0.62,0],\n",
    "    [0,0,0.66]])\n",
    "\n",
    "    M6_3 = np.array([[0.12,0,0.02],\n",
    "    [0,0.05,0.03]])\n",
    "    \n",
    "    combinedEPA = np.array([0.0, 0.0, 0.0])\n",
    "    combinedEPA[0] = M_0[0] + M6_1[0][0]*modifierEPA[0] + M6_1[1][0]*modifierEPA[1] + M6_1[2][0]*modifierEPA[2]\n",
    "    combinedEPA[0] = combinedEPA[0] + M6_2[0][0]*identityEPA[0] + M6_2[1][0]*identityEPA[1] + M6_2[2][0]*identityEPA[2]\n",
    "    combinedEPA[0] = combinedEPA[0] + M6_3[0][0]*identityEPA[0]*modifierEPA[0] + M6_3[1][0]*identityEPA[0]*modifierEPA[2]\n",
    "\n",
    "    combinedEPA[1] = M_0[1] + M6_1[0][1]*modifierEPA[0] + M6_1[1][1]*modifierEPA[1] + M6_1[2][1]*modifierEPA[2]\n",
    "    combinedEPA[1] = combinedEPA[1] + M6_2[0][1]*identityEPA[0] + M6_2[1][1]*identityEPA[1] + M6_2[2][1]*identityEPA[2]\n",
    "    combinedEPA[1] = combinedEPA[1] + M6_3[0][1]*identityEPA[0]*modifierEPA[0] + M6_3[1][1]*identityEPA[0]*modifierEPA[2]\n",
    "\n",
    "    combinedEPA[2] = M_0[2] + M6_1[0][2]*modifierEPA[0] + M6_1[1][2]*modifierEPA[1] + M6_1[2][2]*modifierEPA[2]\n",
    "    combinedEPA[2] = combinedEPA[2] + M6_2[0][2]*identityEPA[0] + M6_2[1][2]*identityEPA[1] + M6_2[2][2]*identityEPA[2]\n",
    "    combinedEPA[2] = combinedEPA[2] + M6_3[0][2]*identityEPA[0]*modifierEPA[0] + M6_3[1][2]*identityEPA[0]*modifierEPA[2]\n",
    "\n",
    "    #print(\"combinedEPA: \",combinedEPA)\n",
    "\n",
    "    return combinedEPA\n",
    "  #[0.665408, 0.55376, 0.49194399999999994]\n",
    "\n",
    "\n",
    "def calcOptNextBehavior(modifierActorEPA, identityActorEPA, behaviorEPA, modifierObjectEPA, identityObjectEPA):\n",
    "\n",
    "    # combine modifierIdentifierActorEPA\n",
    "    #print(\"Calculate modifierIdentifierActorEPA\")\n",
    "    modifierIdentifierActorEPA = calcCombinedIdentityModifierEPA(modifierActorEPA,identityActorEPA)\n",
    "\n",
    "    # combine modifierIdentifierObjectEPA\n",
    "    #print(\"Calculate modifierIdentifierObjectEPA\")\n",
    "    modifierIdentifierObjectEPA = calcCombinedIdentityModifierEPA(modifierObjectEPA,identityObjectEPA)\n",
    "\n",
    "    # Testing calcTau for scenario from Interact: Mario[_,friend],give a raise to,Player[_,enemy]\n",
    "    #print(\"Calling calcTau\")\n",
    "    tau, deflectionA, deflectionO, deflectionTotal, outAe, outAp, outAa, outBe, outBp, outBa, outOe, outOp, outOa = calcTau(modifierIdentifierActorEPA, behaviorEPA, modifierIdentifierObjectEPA)\n",
    "\n",
    "    #profileValue = calcProfile(0.67,0.55,0.49, -1.40,1.62,1.50, 0.67,0.55,0.49,-0.88,1.02,0.96, -1.11,1.45,1.12, 0.06,-0.55,0.31)\n",
    "    profileValue = calcProfile(modifierIdentifierActorEPA[0],modifierIdentifierActorEPA[1],modifierIdentifierActorEPA[2], behaviorEPA[0],behaviorEPA[1],behaviorEPA[2],modifierIdentifierObjectEPA[0],modifierIdentifierObjectEPA[1],modifierIdentifierObjectEPA[2],tau[0],tau[1],tau[2],tau[3],tau[4],tau[5],tau[6],tau[7],tau[8])\n",
    "\n",
    "    #print('calcProfile output Actor Behavior| Object Behavior | Reidentified Actor | Reidentified Object:')\n",
    "    #print('---------------------------------------------------------------------------------------------')\n",
    "    #print(profileValue)\n",
    "    parts = profileValue.split('|')\n",
    "    objBehaviorEPA = np.array([float(parts[3]),float(parts[4]),float(parts[5])])\n",
    "        \n",
    "    print('Object Emotion:')\n",
    "    print('--------------')\n",
    "    calcEmotion(modifierIdentifierActorEPA[0],modifierIdentifierActorEPA[1],modifierIdentifierActorEPA[2], modifierIdentifierObjectEPA[0],modifierIdentifierObjectEPA[1],modifierIdentifierObjectEPA[2],outAe, outAp, outAa, outOe, outOp, outOa, 'O')\n",
    "   \n",
    "    print('Actor Emotion:')\n",
    "    print('--------------')\n",
    "    calcEmotion(modifierIdentifierActorEPA[0],modifierIdentifierActorEPA[1],modifierIdentifierActorEPA[2], modifierIdentifierObjectEPA[0],modifierIdentifierObjectEPA[1],modifierIdentifierObjectEPA[2],outAe, outAp, outAa, outOe, outOp, outOa, 'A')\n",
    " \n",
    "    print('Object next behavior:')\n",
    "    print('--------------')\n",
    "    print(objBehaviorEPA)\n",
    "    \n",
    "    return objBehaviorEPA\n",
    "\n",
    "def get_nth_key(n=0, criteria ='Behaviors'):\n",
    "    \n",
    "    if criteria == 'Behaviors':\n",
    "        dictionary = np.load('BehaviorsDict.npy',allow_pickle='TRUE').item()\n",
    "    elif criteria == 'Identities':\n",
    "        dictionary = np.load('IdentitiesDict.npy',allow_pickle='TRUE').item()\n",
    "    elif criteria == 'Modifiers':\n",
    "        dictionary = np.load('ModifiersDict.npy',allow_pickle='TRUE').item()\n",
    "    \n",
    "    if n < 0:\n",
    "        n += len(dictionary)\n",
    "    for i, key in enumerate(dictionary.keys()):\n",
    "        #print(key)\n",
    "        if i == n:\n",
    "            return key\n",
    "    raise IndexError(\"dictionary index out of range\")    \n",
    "\n",
    "\n",
    "def get_epa_value_for_key(key, criteria ='Behaviors'):\n",
    "    \n",
    "    if criteria == 'Behaviors':\n",
    "        dictionary = np.load('BehaviorsDict.npy',allow_pickle='TRUE').item()\n",
    "    elif criteria == 'Identities':\n",
    "        dictionary = np.load('IdentitiesDict.npy',allow_pickle='TRUE').item()\n",
    "    elif criteria == 'Modifiers':\n",
    "        dictionary = np.load('ModifiersDict.npy',allow_pickle='TRUE').item()\n",
    "        \n",
    "    for k,v in dictionary.items():\n",
    "        if k == key:\n",
    "            #print(\"Found value for: \", end =\"\")\n",
    "            #print(key, end =\"\")\n",
    "            #print(\": \", end =\"\")\n",
    "            #print(v)\n",
    "            return v\n",
    "    raise IndexError(\"dictionary does not have this key entry\")    \n",
    "\n",
    "def calcDistVector(epaValue, criteria ='Behaviors'):\n",
    "  \n",
    "    distVector = []\n",
    "    epaDict = {}\n",
    "        \n",
    "    # create a map of behaviors epa \n",
    "    if criteria == 'Behaviors':\n",
    "        epaDict = np.load('BehaviorsDict.npy',allow_pickle='TRUE').item()\n",
    "    elif criteria == 'Identities':\n",
    "        epaDict = np.load('IdentitiesDict.npy',allow_pickle='TRUE').item()\n",
    "    elif criteria == 'Modifiers':\n",
    "        epaDict = np.load('ModifiersDict.npy',allow_pickle='TRUE').item()\n",
    "\n",
    "    # iterate and calculate array of 500 values which are euclidean distances of objBehaviorEPA from behaviors epa\n",
    "    for k,v in epaDict.items():\n",
    "        #print(k)\n",
    "        distVector.append(np.linalg.norm(epaValue - v))\n",
    "        \n",
    "    #print('distVector:')\n",
    "    #print('----------')\n",
    "    #print(distVector)\n",
    "    return distVector\n",
    "\n",
    "\n",
    "# In[29]:\n",
    "\n",
    "\n",
    "def calc15InputToBehaviorDistVector(modifierActorEPA, identityActorEPA, behaviorEPA, modifierObjectEPA, identityObjectEPA):\n",
    "       \n",
    "    # Test calcOptNextBehavior given 15 inputs\n",
    "    objBehaviorEPA = calcOptNextBehavior(modifierActorEPA, identityActorEPA, behaviorEPA, modifierObjectEPA, identityObjectEPA)\n",
    "\n",
    "    # Test calcDistVector\n",
    "    distVector = calcDistVector(objBehaviorEPA, 'Behaviors')\n",
    "    return distVector\n",
    "\n",
    "def calc15PointInputToBehaviorDistVector(maE, maP, maA, iaE, iaP, iaA, bE, bP, bA, moE, moP, moA, ioE, ioP, ioA):\n",
    "       \n",
    "    modifierActorEPA = np.array([maE, maP, maA])\n",
    "    identityActorEPA = np.array([iaE, iaP, iaA])\n",
    "    behaviorEPA = np.array([bE, bP, bA])\n",
    "    modifierObjectEPA = np.array([moE, moP, moA])\n",
    "    identityObjectEPA = np.array([ioE, ioP, ioA])\n",
    "    # Test calcOptNextBehavior given 15 inputs\n",
    "    objBehaviorEPA = calcOptNextBehavior(modifierActorEPA, identityActorEPA, behaviorEPA, modifierObjectEPA, identityObjectEPA)\n",
    "\n",
    "    # Test calcDistVector\n",
    "    distVector = calcDistVector(objBehaviorEPA, 'Behaviors')\n",
    "    return distVector\n",
    "    \n",
    "def testcalc15PointInputToBehaviorDistVector():\n",
    "       \n",
    "    modifierActorEPA = np.array([2.92,2.43,1.96])\n",
    "    identityActorEPA = np.array([0.02,-0.09,-0.23])\n",
    "    behaviorEPA = np.array([-1.40, 1.62, 1.50])\n",
    "    modifierObjectEPA = np.array([2.92,2.43,1.96])\n",
    "    identityObjectEPA = np.array([0.02,-0.09,-0.23])\n",
    "    # Test calcOptNextBehavior given 15 inputs\n",
    "    objBehaviorEPA = calcOptNextBehavior(modifierActorEPA, identityActorEPA, behaviorEPA, modifierObjectEPA, identityObjectEPA)\n",
    "\n",
    "    # Test calcDistVector\n",
    "    distVector = calcDistVector(objBehaviorEPA, 'Behaviors')\n",
    "    return distVector\n",
    "# In[30]:\n",
    "\n",
    "\n",
    "#Try loading epa for a behavior\n",
    "# epaBehaviorDict = createDictionary('Behaviors')\n",
    "# epaModifiersDict = createDictionary('Modifiers')\n",
    "# epaIdentitiesDict = createDictionary('Identities')\n",
    "\n",
    "def calcNengoEvalPointsFromInputFile(filename = 'eval_scenarios.csv'):\n",
    "    \n",
    "    df = pd.read_csv(filename)\n",
    "    print(df)\n",
    "    \n",
    "    nengoEvalPointsArr = np.array([])\n",
    "    \n",
    "    for index, row in df.iterrows():\n",
    "     # access data using column names\n",
    "      #  print(index, row['modA'], row['idA'], row['behavior'], row['modO'], row['idO'])\n",
    "    \n",
    "        modifierActorEPA = get_epa_value_for_key(row['modA'], 'Modifiers')\n",
    "        identityActorEPA = get_epa_value_for_key(row['idA'], 'Identities')\n",
    "        behaviorEPA = get_epa_value_for_key(row['behavior'], 'Behaviors')\n",
    "        modifierObjectEPA = get_epa_value_for_key(row['modO'], 'Modifiers')\n",
    "        identityObjectEPA = get_epa_value_for_key(row['idO'], 'Identities')\n",
    "\n",
    "        evalPoint = np.array([modifierActorEPA,identityActorEPA,behaviorEPA,modifierObjectEPA,identityObjectEPA])\n",
    "\n",
    "        nengoEvalPointsArr.append(identityObjectEPA)\n",
    "\n",
    "    return nengoEvalPointsArr\n",
    "\n",
    "def calcOneInteractionRound(modifierActor, identityActor, behavior, modifierObject, identityObject):\n",
    "    modifierActorEPA = get_epa_value_for_key(modifierActor, 'Modifiers')\n",
    "    identityActorEPA = get_epa_value_for_key(identityActor, 'Identities')\n",
    "    behaviorEPA = get_epa_value_for_key(behavior, 'Behaviors')\n",
    "    modifierObjectEPA = get_epa_value_for_key(modifierObject, 'Modifiers')\n",
    "    identityObjectEPA = get_epa_value_for_key(identityObject, 'Identities')\n",
    "    \n",
    "    print(modifierActor, end =\"\") \n",
    "    print(\" \", end =\"\") \n",
    "    print(identityActor, end =\"\") \n",
    "    print(\" \", end =\"\") \n",
    "    print(behavior, end =\"\") \n",
    "    print(\" \", end =\"\") \n",
    "    print(modifierObject, end =\"\") \n",
    "    print(\" \", end =\"\") \n",
    "    print(identityObject)\n",
    "    print(modifierActorEPA, end =\"\") \n",
    "    print(\" \", end =\"\") \n",
    "    print(identityActorEPA, end =\"\") \n",
    "    print(\" \", end =\"\") \n",
    "    print(behaviorEPA, end =\"\") \n",
    "    print(\" \", end =\"\") \n",
    "    print(modifierObjectEPA, end =\"\") \n",
    "    print(\" \", end =\"\") \n",
    "    print(identityObjectEPA)\n",
    "    \n",
    "    distVector = calc15InputToBehaviorDistVector(modifierActorEPA, identityActorEPA, behaviorEPA, modifierObjectEPA, identityObjectEPA)\n",
    "\n",
    "    print(\"Min dist index: \", end =\"\")\n",
    "    print(np.argmin(distVector))\n",
    "    minDist = get_nth_key(np.argmin(distVector),'Behaviors')\n",
    "    print(\" Key: \", end =\"\")\n",
    "    print(minDist)\n",
    "    \n",
    "model = nengo.Network(label='Basal Ganglia', seed = 3)\n",
    "with model:\n",
    "    print('Hello Nengo!')\n",
    "\n",
    "\n",
    "def calcEPAError(expectedEPA,actualEPA):\n",
    "    mse = mean_squared_error(expectedEPA, actualEPA)\n",
    "    print(mse)\n",
    "    \n",
    "# def calcEPADist(expectedEPA,actualEPA):\n",
    "#     mse = distance.euclidean(expectedEPA, actualEPA)\n",
    "#     print(mse)\n",
    "\n",
    "def calcEPADistNorm(expectedEPA,actualEPA):\n",
    "    mse = np.linalg.norm(expectedEPA - actualEPA)\n",
    "    print(mse)    \n",
    "    \n",
    "def calc15EPAError(expected15EPA,actual15EPA):\n",
    "    mse = mean_squared_error(expected15EPA, actual15EPA)\n",
    "    print(mse)\n",
    "\n",
    "def calcNengoEvalPointsFromInputFile(filename = 'eval_scenarios.csv'):\n",
    "    \n",
    "    df = pd.read_csv(filename)\n",
    "    print(df)\n",
    "    \n",
    "    nengoEvalPointsArr = []\n",
    "    \n",
    "    for index, row in df.iterrows():\n",
    "     # access data using column names\n",
    "      #  print(index, row['modA'], row['idA'], row['behavior'], row['modO'], row['idO'])\n",
    "    \n",
    "        modifierActorEPA = get_epa_value_for_key(row['modA'], 'Modifiers')\n",
    "        identityActorEPA = get_epa_value_for_key(row['idA'], 'Identities')\n",
    "        behaviorEPA = get_epa_value_for_key(row['behavior'], 'Behaviors')\n",
    "        modifierObjectEPA = get_epa_value_for_key(row['modO'], 'Modifiers')\n",
    "        identityObjectEPA = get_epa_value_for_key(row['idO'], 'Identities')\n",
    "\n",
    "        evalPoint = [modifierActorEPA[0],modifierActorEPA[1],modifierActorEPA[2],\n",
    "                     identityActorEPA[0],identityActorEPA[1],identityActorEPA[2],\n",
    "                     behaviorEPA[0],behaviorEPA[1],behaviorEPA[2],\n",
    "                     modifierObjectEPA[0],modifierObjectEPA[1],modifierObjectEPA[2],\n",
    "                     identityObjectEPA[0],identityObjectEPA[1],identityObjectEPA[2]]\n",
    "        print(evalPoint)\n",
    "        \n",
    "        nengoEvalPointsArr.append(evalPoint)\n",
    "\n",
    "    return nengoEvalPointsArr"
   ]
  },
  {
   "cell_type": "code",
   "execution_count": 2,
   "metadata": {
    "scrolled": true
   },
   "outputs": [
    {
     "name": "stdout",
     "output_type": "stream",
     "text": [
      "    modA       idA           behavior   modO       idO\n",
      "0  happy  stranger  sell something to  happy  stranger\n",
      "1  angry  stranger  sell something to  happy  stranger\n",
      "2  happy  stranger            capture  happy  stranger\n",
      "3  angry  stranger            capture  happy  stranger\n",
      "[2.92, 2.43, 1.96, 0.02, -0.09, -0.23, 1.6, 1.47, 1.55, 2.92, 2.43, 1.96, 0.02, -0.09, -0.23]\n",
      "[-1.45, -0.3, 1.13, 0.02, -0.09, -0.23, 1.6, 1.47, 1.55, 2.92, 2.43, 1.96, 0.02, -0.09, -0.23]\n",
      "[2.92, 2.43, 1.96, 0.02, -0.09, -0.23, -1.4, 1.62, 1.5, 2.92, 2.43, 1.96, 0.02, -0.09, -0.23]\n",
      "[-1.45, -0.3, 1.13, 0.02, -0.09, -0.23, -1.4, 1.62, 1.5, 2.92, 2.43, 1.96, 0.02, -0.09, -0.23]\n"
     ]
    },
    {
     "data": {
      "text/plain": [
       "[[2.92,\n",
       "  2.43,\n",
       "  1.96,\n",
       "  0.02,\n",
       "  -0.09,\n",
       "  -0.23,\n",
       "  1.6,\n",
       "  1.47,\n",
       "  1.55,\n",
       "  2.92,\n",
       "  2.43,\n",
       "  1.96,\n",
       "  0.02,\n",
       "  -0.09,\n",
       "  -0.23],\n",
       " [-1.45,\n",
       "  -0.3,\n",
       "  1.13,\n",
       "  0.02,\n",
       "  -0.09,\n",
       "  -0.23,\n",
       "  1.6,\n",
       "  1.47,\n",
       "  1.55,\n",
       "  2.92,\n",
       "  2.43,\n",
       "  1.96,\n",
       "  0.02,\n",
       "  -0.09,\n",
       "  -0.23],\n",
       " [2.92,\n",
       "  2.43,\n",
       "  1.96,\n",
       "  0.02,\n",
       "  -0.09,\n",
       "  -0.23,\n",
       "  -1.4,\n",
       "  1.62,\n",
       "  1.5,\n",
       "  2.92,\n",
       "  2.43,\n",
       "  1.96,\n",
       "  0.02,\n",
       "  -0.09,\n",
       "  -0.23],\n",
       " [-1.45,\n",
       "  -0.3,\n",
       "  1.13,\n",
       "  0.02,\n",
       "  -0.09,\n",
       "  -0.23,\n",
       "  -1.4,\n",
       "  1.62,\n",
       "  1.5,\n",
       "  2.92,\n",
       "  2.43,\n",
       "  1.96,\n",
       "  0.02,\n",
       "  -0.09,\n",
       "  -0.23]]"
      ]
     },
     "execution_count": 2,
     "metadata": {},
     "output_type": "execute_result"
    }
   ],
   "source": [
    "calcNengoEvalPointsFromInputFile()\n",
    "# earlier ones\n",
    "# happy,father,cuddle,happy,son\n",
    "# angry,father,shout at,happy,son\n",
    "# happy,father,cheer,sad,son\n",
    "# happy,father,advise,fearful,son\n",
    "# angry,son,insult,angry,father\n",
    "# happy,stranger,sell something to,happy,stranger\n",
    "# happy,stranger,capture,happy,stranger\n",
    "# angry,stranger,capture,happy,stranger\n",
    "# fearful,stranger,sell something to,angry,stranger\n",
    "# angry,stranger,capture,fearful,stranger"
   ]
  },
  {
   "cell_type": "code",
   "execution_count": 3,
   "metadata": {},
   "outputs": [],
   "source": [
    "import nengo\n",
    "import nengo.spa as spa\n",
    "import numpy as np\n",
    "\n",
    "D = 3  # the dimensionality of the vectors\n",
    "\n",
    "behaviorsDict = np.load('BehaviorsDict.npy',allow_pickle='TRUE').item()\n",
    "vocab_behaviors = spa.Vocabulary(dimensions=3)\n",
    "for key, value in behaviorsDict.items():\n",
    "    vocab_behaviors.add(key.upper().replace(' ', '_'), value)\n",
    "    \n",
    "modifiersDict = np.load('ModifiersDict.npy',allow_pickle='TRUE').item()\n",
    "vocab_modifiers = spa.Vocabulary(dimensions=3)\n",
    "for key, value in modifiersDict.items():\n",
    "    vocab_modifiers.add(key.upper(), value)\n",
    "    \n",
    "identitiesDict = np.load('IdentitiesDict.npy',allow_pickle='TRUE').item()\n",
    "vocab_identities = spa.Vocabulary(dimensions=3)\n",
    "for key, value in identitiesDict.items():\n",
    "    vocab_identities.add(key.upper(), value)\n",
    "\n",
    "\n"
   ]
  },
  {
   "cell_type": "code",
   "execution_count": 4,
   "metadata": {},
   "outputs": [
    {
     "name": "stdout",
     "output_type": "stream",
     "text": [
      "happy stranger capture happy stranger\n",
      "[2.92 2.43 1.96] [ 0.02 -0.09 -0.23] [-1.4   1.62  1.5 ] [2.92 2.43 1.96] [ 0.02 -0.09 -0.23]\n",
      "deflectionTotal= 4.68541485487331\n",
      "deflectionA= 2.815036245973727\n",
      "deflectionO= 1.6184305467748878\n",
      "Object Emotion:\n",
      "--------------\n",
      "emotion EPA= [ 0.39522824 -2.31158629  0.50500858]\n",
      "Min dist index: 99\n",
      " Key: female\n",
      "Actor Emotion:\n",
      "--------------\n",
      "emotion EPA= [-0.64016499  2.45137926  1.95656578]\n",
      "Min dist index: 23\n",
      " Key: authoritarian\n",
      "Object next behavior:\n",
      "--------------\n",
      "[0.38934866 1.44826028 0.09001935]\n",
      "Min dist index: 152\n",
      " Key: disrobe\n",
      "angry stranger capture happy stranger\n",
      "[-1.45 -0.3   1.13] [ 0.02 -0.09 -0.23] [-1.4   1.62  1.5 ] [2.92 2.43 1.96] [ 0.02 -0.09 -0.23]\n",
      "deflectionTotal= 2.9775690367180987\n",
      "deflectionA= 1.1530861110339257\n",
      "deflectionO= 1.5234269588638603\n",
      "Object Emotion:\n",
      "--------------\n",
      "emotion EPA= [ 0.53877842 -2.31115447  0.50085522]\n",
      "Min dist index: 99\n",
      " Key: female\n",
      "Actor Emotion:\n",
      "--------------\n",
      "emotion EPA= [-0.5195804   3.34668905  1.79446434]\n",
      "Min dist index: 23\n",
      " Key: authoritarian\n",
      "Object next behavior:\n",
      "--------------\n",
      "[-0.17677105  1.66239934  0.16989885]\n",
      "Min dist index: 114\n",
      " Key: convict\n"
     ]
    }
   ],
   "source": [
    "# calcOneInteractionRound('happy', 'father', 'cuddle', 'happy', 'son')\n",
    "#calcOneInteractionRound('happy', 'stranger', 'capture', 'happy', 'stranger')\n",
    "#calcOneInteractionRound('angry', 'father', 'shout at', 'happy', 'son')\n",
    "# calcOneInteractionRound('happy', 'father', 'cuddle', 'happy', 'son')\n",
    "# calcOneInteractionRound('angry', 'father', 'fight', 'angry', 'son')\n",
    "# calcOneInteractionRound('happy', 'father', 'cheer', 'sad', 'son')\n",
    "# calcOneInteractionRound('happy', 'father', 'advise', 'fearful', 'son')\n",
    "# calcOneInteractionRound('angry', 'son', 'insult', 'angry', 'father')\n",
    "# calcOneInteractionRound('happy', 'stranger', 'sell something to', 'happy', 'stranger')\n",
    "# calcOneInteractionRound('angry', 'stranger', 'sell something to', 'happy', 'stranger')\n",
    "calcOneInteractionRound('happy', 'stranger', 'capture', 'happy', 'stranger')\n",
    "calcOneInteractionRound('angry', 'stranger', 'capture', 'happy', 'stranger')\n",
    "\n",
    "# calcOneInteractionRound('no emotion', 'doctor', 'instruct', 'no emotion', 'patient')"
   ]
  },
  {
   "cell_type": "code",
   "execution_count": 6,
   "metadata": {},
   "outputs": [
    {
     "name": "stdout",
     "output_type": "stream",
     "text": [
      "deflectionTotal= 4.68541485487331\n",
      "deflectionA= 2.815036245973727\n",
      "deflectionO= 1.6184305467748878\n",
      "Object Emotion:\n",
      "--------------\n",
      "emotion EPA= [ 0.39522824 -2.31158629  0.50500858]\n",
      "Min dist index: 99\n",
      " Key: female\n",
      "Actor Emotion:\n",
      "--------------\n",
      "emotion EPA= [-0.64016499  2.45137926  1.95656578]\n",
      "Min dist index: 23\n",
      " Key: authoritarian\n",
      "Object next behavior:\n",
      "--------------\n",
      "[0.38934866 1.44826028 0.09001935]\n"
     ]
    }
   ],
   "source": [
    "model = spa.SPA()\n",
    "with model:\n",
    "     \n",
    "    model.vision1 = spa.State(D, vocab=vocab_modifiers, neurons_per_dimension=200)\n",
    "    model.vision2 = spa.State(D, vocab=vocab_identities, neurons_per_dimension=200)\n",
    "    #for ens in model.vision2.all_ensembles:\n",
    "        #ens.neuron_type = nengo.Direct()\n",
    "        #print(ens, ens.n_neurons)\n",
    "    model.vision3 = spa.State(D, vocab=vocab_behaviors, neurons_per_dimension=200)\n",
    "    model.vision4 = spa.State(D, vocab=vocab_modifiers, neurons_per_dimension=200)\n",
    "    model.vision5 = spa.State(D, vocab=vocab_identities, neurons_per_dimension=200)\n",
    "    \n",
    "    for ens in model.vision1.all_ensembles:\n",
    "        ens.radius=4.3 #2*4.3*np.sqrt(3)\n",
    "        \n",
    "    for ens in model.vision2.all_ensembles:\n",
    "        ens.radius=4.3 #2*4.3*np.sqrt(3)\n",
    "        \n",
    "    for ens in model.vision3.all_ensembles:\n",
    "        ens.radius=4.3 #2*4.3*np.sqrt(3)\n",
    "    \n",
    "    for ens in model.vision4.all_ensembles:\n",
    "        ens.radius=4.3 #2*4.3*np.sqrt(3)\n",
    "        \n",
    "    for ens in model.vision5.all_ensembles:\n",
    "        ens.radius=4.3 #2*4.3*np.sqrt(3)\n",
    "\n",
    "    #model.memory = spa.State(D, feedback=1)\n",
    "\n",
    "    #nengo.Connection(model.vision1.output, model.memory.input,\n",
    "    #                 transform=0.1)\n",
    "                     \n",
    "        \n",
    "    def vision1_input(t):\n",
    "        if t < 0.5:\n",
    "            return 'HAPPY'\n",
    "        else:\n",
    "            return 'ANGRY'\n",
    "        \n",
    "    def vision2_input(t):\n",
    "        if t < 0.5:\n",
    "            return 'STRANGER'\n",
    "        else:\n",
    "            return 'STRANGER'\n",
    "        \n",
    "    # 'SELL_SOMETHING_TO'\n",
    "    # 'CAPTURE'\n",
    "    def vision3_input(t):\n",
    "        if t < 0.5:\n",
    "            return 'CAPTURE'\n",
    "        else:\n",
    "            return 'CAPTURE'       \n",
    "\n",
    "    def vision4_input(t):\n",
    "        if t < 0.5:\n",
    "            return 'HAPPY'\n",
    "        else:\n",
    "            return 'HAPPY'\n",
    "\n",
    "    def vision5_input(t):\n",
    "        if t < 0.5:\n",
    "            return 'STRANGER'\n",
    "        else:\n",
    "            return 'STRANGER'  \n",
    "        \n",
    "#    model.stim = spa.Input(vision1='HAPPY', vision2='STRANGER', vision3='CAPTURE', vision4='HAPPY', vision5='STRANGER')\n",
    "    model.stim = spa.Input(vision1=vision1_input, vision2=vision2_input, vision3=vision3_input, \n",
    "                           vision4=vision4_input, vision5=vision5_input)\n",
    "#  0  happy  stranger  sell something to  happy  stranger\n",
    "# 1  angry  stranger  sell something to  happy  stranger\n",
    "# 2  happy  stranger            capture  happy  stranger\n",
    "# 3  angry  stranger            capture  happy  stranger\n",
    "# [2.92, 2.43, 1.96, 0.02, -0.09, -0.23, 1.6, 1.47, 1.55, 2.92, 2.43, 1.96, 0.02, -0.09, -0.23]\n",
    "# [-1.45, -0.3, 1.13, 0.02, -0.09, -0.23, 1.6, 1.47, 1.55, 2.92, 2.43, 1.96, 0.02, -0.09, -0.23]\n",
    "# [2.92, 2.43, 1.96, 0.02, -0.09, -0.23, -1.4, 1.62, 1.5, 2.92, 2.43, 1.96, 0.02, -0.09, -0.23]\n",
    "# [-1.45, -0.3, 1.13, 0.02, -0.09, -0.23, -1.4, 1.62, 1.5, 2.92, 2.43, 1.96, 0.02, -0.09, -0.23]\n",
    "\n",
    "    \n",
    "    p1 = nengo.Probe(model.vision1.output)\n",
    "    p2 = nengo.Probe(model.vision2.output)\n",
    "    p3 = nengo.Probe(model.vision3.output)\n",
    "    p4 = nengo.Probe(model.vision4.output)\n",
    "    p5 = nengo.Probe(model.vision5.output)\n",
    "    \n",
    "    #combined = nengo.Ensemble(n_neurons=500, dimensions=15)\n",
    "    combined = nengo.Ensemble(n_neurons=1500, dimensions=15,radius=4.3*np.sqrt(15))#, neuron_type=nengo.Direct(),radius=4.3)\n",
    "    nengo.Connection(model.vision1.output, combined[[0,1,2]])\n",
    "    nengo.Connection(model.vision2.output, combined[[3,4,5]])\n",
    "    nengo.Connection(model.vision3.output, combined[[6,7,8]])\n",
    "    nengo.Connection(model.vision4.output, combined[[9,10,11]])\n",
    "    nengo.Connection(model.vision5.output, combined[[12,13,14]])\n",
    "\n",
    "    pC = nengo.Probe(combined)\n",
    "    pC_neurons = nengo.Probe(combined.neurons)\n",
    "    p_input = nengo.Probe(combined, 'input')\n",
    "    \n",
    "    bg = nengo.networks.BasalGanglia(dimensions=500)\n",
    "\n",
    "    maximum_distance = 5.0\n",
    "    nengo.Connection(combined,bg.input, \n",
    "            eval_points=np.array([[2.92, 2.43, 1.96, 0.02, -0.09, -0.23, -1.4,   1.62,  1.5,2.92, 2.43, 1.96, 0.02, -0.09, -0.23]\n",
    "                                ,[-1.45, -0.3, 1.13, 0.02, -0.09, -0.23, -1.4 ,  1.62,  1.5,2.92, 2.43, 1.96, 0.02, -0.09, -0.23]\n",
    "                                          ]),\n",
    "                      function=lambda x: np.interp(calc15PointInputToBehaviorDistVector(*x), [1.5, maximum_distance], [1, 0]),\n",
    "                      scale_eval_points=False)\n",
    "   \n",
    "    # [0. 0. 0.] [1.9  0.69 0.05] [1.85 1.65 0.3 ] [0. 0. 0.] [ 0.9  -0.69 -1.05]\n",
    "#                          eval_points=np.array([[2.92, 2.43, 1.96, 0.02, -0.09, -0.23, -1.4, 1.62, 1.5, 2.92, 2.43, 1.96, 0.02, -0.09, -0.23]\n",
    "#                                           ,[-1.45, -0.3, 1.13, 0.02, -0.09, -0.23, -1.4, 1.62, 1.5, 2.92, 2.43, 1.96, 0.02, -0.09, -0.23]\n",
    "#                                           ]),\n",
    "        \n",
    "    def inhibit(t):\n",
    "#         if t<0.5:\n",
    "#             return [0]*500\n",
    "#         else:\n",
    "            value = [-10]*500 # default all inhibit\n",
    "            value[68] = 0   #obey  # allow 'capture' -> underpay -2.25,  -0.57,  -0.57 take\n",
    "            value[408] = 0   #disobey # allow 'sell something to' -> compensate 2.28   1.51   0.82 give\n",
    "            return value\n",
    "    \n",
    "#     p_bginAll = nengo.Probe(bg.input)\n",
    "#     p_bgoutAll = nengo.Probe(bg.output)\n",
    "        \n",
    "    inhibitor = nengo.Node(inhibit)\n",
    "    nengo.Connection(inhibitor, bg.input)\n",
    "            \n",
    "    \n",
    "    p_bgin = nengo.Probe(bg.input)    \n",
    "    p_bgout = nengo.Probe(bg.output)\n",
    "    \n",
    "    thal = nengo.networks.Thalamus(dimensions=500)\n",
    "    nengo.Connection(bg.output, thal.input)\n",
    "    \n",
    "    p_thal = nengo.Probe(thal.output, synapse=0.03) \n"
   ]
  },
  {
   "cell_type": "code",
   "execution_count": 7,
   "metadata": {},
   "outputs": [
    {
     "data": {
      "application/vdom.v1+json": {
       "attributes": {},
       "tagName": "div"
      },
      "text/html": [
       "\n",
       "                <script>\n",
       "                    if (Jupyter.version.split(\".\")[0] < 5) {\n",
       "                        var pb = document.getElementById(\"317045e0-03b0-41ce-a31d-e79e74529563\");\n",
       "                        var text = document.createTextNode(\n",
       "                            \"HMTL progress bar requires Jupyter Notebook >= \" +\n",
       "                            \"5.0 or Jupyter Lab. Alternatively, you can use \" +\n",
       "                            \"TerminalProgressBar().\");\n",
       "                        pb.parentNode.insertBefore(text, pb);\n",
       "                    }\n",
       "                </script>\n",
       "                <div id=\"317045e0-03b0-41ce-a31d-e79e74529563\" style=\"\n",
       "                    width: 100%;\n",
       "                    border: 1px solid #cfcfcf;\n",
       "                    border-radius: 4px;\n",
       "                    text-align: center;\n",
       "                    position: relative;\">\n",
       "                  <div class=\"pb-text\" style=\"\n",
       "                      position: absolute;\n",
       "                      width: 100%;\">\n",
       "                    0%\n",
       "                  </div>\n",
       "                  <div class=\"pb-fill\" style=\"\n",
       "                      background-color: #bdd2e6;\n",
       "                      width: 0%;\">\n",
       "                    <style type=\"text/css\" scoped=\"scoped\">\n",
       "                        @keyframes pb-fill-anim {\n",
       "                            0% { background-position: 0 0; }\n",
       "                            100% { background-position: 100px 0; }\n",
       "                        }\n",
       "                    </style>\n",
       "                    &nbsp;\n",
       "                  </div>\n",
       "                </div>"
      ],
      "text/plain": [
       "HtmlProgressBar cannot be displayed. Please use the TerminalProgressBar. It can be enabled with `nengo.rc.set('progress', 'progress_bar', 'nengo.utils.progress.TerminalProgressBar')`."
      ]
     },
     "metadata": {},
     "output_type": "display_data"
    },
    {
     "data": {
      "application/vdom.v1+json": {
       "attributes": {
        "id": "1e1e1d2e-6123-4257-b79b-bb3eee85cea3",
        "style": {
         "border": "1px solid #cfcfcf",
         "borderRadius": "4px",
         "boxSizing": "border-box",
         "position": "relative",
         "textAlign": "center",
         "width": "100%"
        }
       },
       "children": [
        {
         "attributes": {
          "class": "pb-text",
          "style": {
           "position": "absolute",
           "width": "100%"
          }
         },
         "children": [
          "Build finished in 0:00:50."
         ],
         "tagName": "div"
        },
        {
         "attributes": {
          "class": "pb-fill",
          "style": {
           "animation": "none",
           "backgroundColor": "#bdd2e6",
           "backgroundImage": "none",
           "backgroundSize": "100px 100%",
           "width": "100%"
          }
         },
         "children": [
          {
           "attributes": {
            "scoped": "scoped",
            "type": "text/css"
           },
           "children": [
            "\n                        @keyframes pb-fill-anim {\n                            0% { background-position: 0 0; }\n                            100% { background-position: 100px 0; }\n                        }}"
           ],
           "tagName": "style"
          },
          " "
         ],
         "tagName": "div"
        }
       ],
       "tagName": "div"
      },
      "text/html": [
       "<script>\n",
       "              (function () {\n",
       "                  var root = document.getElementById('317045e0-03b0-41ce-a31d-e79e74529563');\n",
       "                  var text = root.getElementsByClassName('pb-text')[0];\n",
       "                  var fill = root.getElementsByClassName('pb-fill')[0];\n",
       "\n",
       "                  text.innerHTML = 'Build finished in 0:00:50.';\n",
       "                  \n",
       "            fill.style.width = '100%';\n",
       "            fill.style.animation = 'pb-fill-anim 2s linear infinite';\n",
       "            fill.style.backgroundSize = '100px 100%';\n",
       "            fill.style.backgroundImage = 'repeating-linear-gradient(' +\n",
       "                '90deg, #bdd2e6, #edf2f8 40%, #bdd2e6 80%, #bdd2e6)';\n",
       "        \n",
       "                  \n",
       "                fill.style.animation = 'none';\n",
       "                fill.style.backgroundImage = 'none';\n",
       "            \n",
       "              })();\n",
       "        </script>"
      ]
     },
     "metadata": {},
     "output_type": "display_data"
    },
    {
     "name": "stdout",
     "output_type": "stream",
     "text": [
      "deflectionTotal= 4.68541485487331\n",
      "deflectionA= 2.815036245973727\n",
      "deflectionO= 1.6184305467748878\n",
      "Object Emotion:\n",
      "--------------\n",
      "emotion EPA= [ 0.39522824 -2.31158629  0.50500858]\n",
      "Min dist index: 99\n",
      " Key: female\n",
      "Actor Emotion:\n",
      "--------------\n",
      "emotion EPA= [-0.64016499  2.45137926  1.95656578]\n",
      "Min dist index: 23\n",
      " Key: authoritarian\n",
      "Object next behavior:\n",
      "--------------\n",
      "[0.38934866 1.44826028 0.09001935]\n",
      "deflectionTotal= 2.9775690367180987\n",
      "deflectionA= 1.1530861110339257\n",
      "deflectionO= 1.5234269588638603\n",
      "Object Emotion:\n",
      "--------------\n",
      "emotion EPA= [ 0.53877842 -2.31115447  0.50085522]\n",
      "Min dist index: 99\n",
      " Key: female\n",
      "Actor Emotion:\n",
      "--------------\n",
      "emotion EPA= [-0.5195804   3.34668905  1.79446434]\n",
      "Min dist index: 23\n",
      " Key: authoritarian\n",
      "Object next behavior:\n",
      "--------------\n",
      "[-0.17677105  1.66239934  0.16989885]\n"
     ]
    },
    {
     "data": {
      "application/vdom.v1+json": {
       "attributes": {},
       "tagName": "div"
      },
      "text/html": [
       "\n",
       "                <script>\n",
       "                    if (Jupyter.version.split(\".\")[0] < 5) {\n",
       "                        var pb = document.getElementById(\"f2676637-0631-4ca8-8799-64c3d361ff2e\");\n",
       "                        var text = document.createTextNode(\n",
       "                            \"HMTL progress bar requires Jupyter Notebook >= \" +\n",
       "                            \"5.0 or Jupyter Lab. Alternatively, you can use \" +\n",
       "                            \"TerminalProgressBar().\");\n",
       "                        pb.parentNode.insertBefore(text, pb);\n",
       "                    }\n",
       "                </script>\n",
       "                <div id=\"f2676637-0631-4ca8-8799-64c3d361ff2e\" style=\"\n",
       "                    width: 100%;\n",
       "                    border: 1px solid #cfcfcf;\n",
       "                    border-radius: 4px;\n",
       "                    text-align: center;\n",
       "                    position: relative;\">\n",
       "                  <div class=\"pb-text\" style=\"\n",
       "                      position: absolute;\n",
       "                      width: 100%;\">\n",
       "                    0%\n",
       "                  </div>\n",
       "                  <div class=\"pb-fill\" style=\"\n",
       "                      background-color: #bdd2e6;\n",
       "                      width: 0%;\">\n",
       "                    <style type=\"text/css\" scoped=\"scoped\">\n",
       "                        @keyframes pb-fill-anim {\n",
       "                            0% { background-position: 0 0; }\n",
       "                            100% { background-position: 100px 0; }\n",
       "                        }\n",
       "                    </style>\n",
       "                    &nbsp;\n",
       "                  </div>\n",
       "                </div>"
      ],
      "text/plain": [
       "HtmlProgressBar cannot be displayed. Please use the TerminalProgressBar. It can be enabled with `nengo.rc.set('progress', 'progress_bar', 'nengo.utils.progress.TerminalProgressBar')`."
      ]
     },
     "metadata": {},
     "output_type": "display_data"
    },
    {
     "data": {
      "application/vdom.v1+json": {
       "attributes": {
        "id": "28a1b774-d7a2-4179-95d4-88f5c33af971",
        "style": {
         "border": "1px solid #cfcfcf",
         "borderRadius": "4px",
         "boxSizing": "border-box",
         "position": "relative",
         "textAlign": "center",
         "width": "100%"
        }
       },
       "children": [
        {
         "attributes": {
          "class": "pb-text",
          "style": {
           "position": "absolute",
           "width": "100%"
          }
         },
         "children": [
          "Simulation finished in 0:00:13."
         ],
         "tagName": "div"
        },
        {
         "attributes": {
          "class": "pb-fill",
          "style": {
           "animation": "none",
           "backgroundColor": "#bdd2e6",
           "backgroundImage": "none",
           "transition": "width 0.1s linear",
           "width": "100%"
          }
         },
         "children": [
          {
           "attributes": {
            "scoped": "scoped",
            "type": "text/css"
           },
           "children": [
            "\n                        @keyframes pb-fill-anim {\n                            0% { background-position: 0 0; }\n                            100% { background-position: 100px 0; }\n                        }}"
           ],
           "tagName": "style"
          },
          " "
         ],
         "tagName": "div"
        }
       ],
       "tagName": "div"
      },
      "text/html": [
       "<script>\n",
       "              (function () {\n",
       "                  var root = document.getElementById('f2676637-0631-4ca8-8799-64c3d361ff2e');\n",
       "                  var text = root.getElementsByClassName('pb-text')[0];\n",
       "                  var fill = root.getElementsByClassName('pb-fill')[0];\n",
       "\n",
       "                  text.innerHTML = 'Simulation finished in 0:00:13.';\n",
       "                  \n",
       "            if (100.0 > 0.) {\n",
       "                fill.style.transition = 'width 0.1s linear';\n",
       "            } else {\n",
       "                fill.style.transition = 'none';\n",
       "            }\n",
       "\n",
       "            fill.style.width = '100.0%';\n",
       "            fill.style.animation = 'none';\n",
       "            fill.style.backgroundImage = 'none'\n",
       "        \n",
       "                  \n",
       "                fill.style.animation = 'none';\n",
       "                fill.style.backgroundImage = 'none';\n",
       "            \n",
       "              })();\n",
       "        </script>"
      ]
     },
     "metadata": {},
     "output_type": "display_data"
    }
   ],
   "source": [
    "sim = nengo.Simulator(model)\n",
    "sim.run(1.0)"
   ]
  },
  {
   "cell_type": "code",
   "execution_count": 9,
   "metadata": {},
   "outputs": [
    {
     "data": {
      "image/png": "[encoded data removed]",
      "text/plain": [
       "<Figure size 480x720 with 4 Axes>"
      ]
     },
     "metadata": {
      "needs_background": "light"
     },
     "output_type": "display_data"
    }
   ],
   "source": [
    "import matplotlib.pyplot as plt\n",
    "\n",
    "plt.figure(figsize=(4,6), dpi=120)\n",
    "\n",
    "ax = plt.axes([0.1, 0.8, 0.9, 0.1])\n",
    "plt.plot(sim.trange(), sim.data[p_input], alpha=0.2)\n",
    "plt.text(0.25, 0.5, 'happy stranger\\ntakes from\\nhappy stranger', va='center', ha='center')\n",
    "plt.text(0.75, 0.5, 'angry stranger\\ntakes from\\nhappy stranger', va='center', ha='center')\n",
    "# plt.text(0.5, 0.75, 'doctor instructs patient', va='center', ha='center')\n",
    "plt.ylabel('cortical\\ninput')\n",
    "plt.xticks([])\n",
    "# plt.yticks([])\n",
    "plt.ylim(-4.3,4.3)\n",
    "\n",
    "\n",
    "ax = plt.axes([0.1, 0.5, 0.9, 0.3])\n",
    "\n",
    "import nengo_extras.plot_spikes as ps\n",
    "ps.plot_spikes(\n",
    "    *ps.merge(\n",
    "        *ps.cluster(\n",
    "            *ps.sample_by_variance(\n",
    "                sim.trange(), sim.data[pC_neurons],\n",
    "                num=50, filter_width=.02),\n",
    "            filter_width=.002),\n",
    "        num=50))\n",
    "plt.xticks([])\n",
    "plt.yticks([])\n",
    "plt.ylabel('convergence neurons\\n(50 out of 1500)')\n",
    "\n",
    "ax = plt.axes([0.1, 0.3, 0.9, 0.2])\n",
    "plt.plot(sim.trange(), sim.data[p_bgin][:,408])\n",
    "plt.plot(sim.trange(), sim.data[p_bgin][:,68])\n",
    "plt.xticks([])\n",
    "plt.ylabel('basal ganglia\\ninput')\n",
    "# plt.yticks([])\n",
    "plt.ylim(0,1.2)\n",
    "plt.legend(['$U_1$ give', '$U_2$ take'], loc='upper right', fontsize='smaller')\n",
    "\n",
    "ax = plt.axes([0.1, 0.1, 0.9, 0.2])\n",
    "plt.plot(sim.trange(), sim.data[p_thal][:,408])\n",
    "plt.plot(sim.trange(), sim.data[p_thal][:,68])\n",
    "\n",
    "plt.ylabel('thalamus\\nresponse')\n",
    "# plt.yticks([])\n",
    "plt.ylim(0,1.2)\n",
    "plt.legend(['action give', 'action take'], loc='upper right', fontsize='smaller')\n",
    "plt.xlabel('time (s)')\n",
    "plt.savefig('simulation-take.png', dpi=1200,bbox_inches='tight')\n",
    "plt.show()"
   ]
  },
  {
   "cell_type": "code",
   "execution_count": 26,
   "metadata": {},
   "outputs": [
    {
     "data": {
      "image/png": "[encoded data removed]",
      "text/plain": [
       "<Figure size 432x288 with 1 Axes>"
      ]
     },
     "metadata": {
      "needs_background": "light"
     },
     "output_type": "display_data"
    },
    {
     "data": {
      "image/png": "[encoded data removed]",
      "text/plain": [
       "<Figure size 432x288 with 1 Axes>"
      ]
     },
     "metadata": {
      "needs_background": "light"
     },
     "output_type": "display_data"
    },
    {
     "data": {
      "image/png": "[encoded data removed]",
      "text/plain": [
       "<Figure size 432x288 with 1 Axes>"
      ]
     },
     "metadata": {
      "needs_background": "light"
     },
     "output_type": "display_data"
    },
    {
     "data": {
      "image/png": "[encoded data removed]",
      "text/plain": [
       "<Figure size 432x288 with 1 Axes>"
      ]
     },
     "metadata": {
      "needs_background": "light"
     },
     "output_type": "display_data"
    }
   ],
   "source": [
    "%matplotlib inline\n",
    "import matplotlib.pyplot as plt\n",
    "\n",
    "filt = nengo.synapses.Lowpass(0.05)\n",
    "\n",
    "#plt.plot(sim.trange(), filt.filt(sim.data[p2]))\n",
    "#plt.legend(['E','P','A'])\n",
    "epaDict = np.load('BehaviorsDict.npy',allow_pickle='TRUE').item()\n",
    "\n",
    "plt.plot(sim.trange(), filt.filt(sim.data[pC]))\n",
    "plt.figure()\n",
    "\n",
    "plt.plot(sim.trange(), filt.filt(sim.data[p_bgin]))\n",
    "#plt.legend(list(epaDict.keys()))\n",
    "plt.figure()\n",
    "\n",
    "plt.plot(sim.trange(), filt.filt(sim.data[p_bgout]))\n",
    "#plt.legend(list(epaDict.keys()))\n",
    "plt.show()\n",
    "\n",
    "plt.plot(sim.trange(), filt.filt(sim.data[p_thal]))\n",
    "# plt.legend(['correct', 'exonerate', 'lend money to', 'reproach', 'stop'])\n",
    "#plt.legend(list(epaDict.keys()))\n",
    "plt.show()"
   ]
  },
  {
   "cell_type": "code",
   "execution_count": 52,
   "metadata": {},
   "outputs": [
    {
     "data": {
      "image/png": "[encoded data removed]",
      "text/plain": [
       "<Figure size 432x288 with 1 Axes>"
      ]
     },
     "metadata": {
      "needs_background": "light"
     },
     "output_type": "display_data"
    }
   ],
   "source": [
    "plt.plot(sim.trange(), filt.filt(sim.data[p_bgin])[:,480],label='take1')\n",
    "plt.plot(sim.trange(), filt.filt(sim.data[p_bgin])[:,96],label='give2')\n",
    "plt.legend()\n",
    "plt.show()"
   ]
  },
  {
   "cell_type": "code",
   "execution_count": 53,
   "metadata": {},
   "outputs": [
    {
     "data": {
      "text/plain": [
       "96"
      ]
     },
     "execution_count": 53,
     "metadata": {},
     "output_type": "execute_result"
    }
   ],
   "source": [
    "np.argmax(np.mean(filt.filt(sim.data[p_thal][0:500]), axis=0))"
   ]
  },
  {
   "cell_type": "code",
   "execution_count": 22,
   "metadata": {},
   "outputs": [
    {
     "ename": "NameError",
     "evalue": "name 'epaDict' is not defined",
     "output_type": "error",
     "traceback": [
      "\u001b[1;31m---------------------------------------------------------------------------\u001b[0m",
      "\u001b[1;31mNameError\u001b[0m                                 Traceback (most recent call last)",
      "\u001b[1;32m<ipython-input-22-10db2bac6595>\u001b[0m in \u001b[0;36m<module>\u001b[1;34m\u001b[0m\n\u001b[1;32m----> 1\u001b[1;33m \u001b[0mlist\u001b[0m\u001b[1;33m(\u001b[0m\u001b[0mepaDict\u001b[0m\u001b[1;33m.\u001b[0m\u001b[0mkeys\u001b[0m\u001b[1;33m(\u001b[0m\u001b[1;33m)\u001b[0m\u001b[1;33m)\u001b[0m\u001b[1;33m[\u001b[0m\u001b[1;36m323\u001b[0m\u001b[1;33m]\u001b[0m\u001b[1;33m\u001b[0m\u001b[1;33m\u001b[0m\u001b[0m\n\u001b[0m",
      "\u001b[1;31mNameError\u001b[0m: name 'epaDict' is not defined"
     ]
    }
   ],
   "source": [
    "list(epaDict.keys())[323]"
   ]
  },
  {
   "cell_type": "code",
   "execution_count": 55,
   "metadata": {},
   "outputs": [
    {
     "data": {
      "text/plain": [
       "480"
      ]
     },
     "execution_count": 55,
     "metadata": {},
     "output_type": "execute_result"
    }
   ],
   "source": [
    "np.argmax(np.mean(filt.filt(sim.data[p_thal][500:1000]), axis=0))"
   ]
  },
  {
   "cell_type": "code",
   "execution_count": 56,
   "metadata": {},
   "outputs": [
    {
     "data": {
      "text/plain": [
       "'underpay'"
      ]
     },
     "execution_count": 56,
     "metadata": {},
     "output_type": "execute_result"
    }
   ],
   "source": [
    "list(epaDict.keys())[480]"
   ]
  },
  {
   "cell_type": "code",
   "execution_count": 107,
   "metadata": {},
   "outputs": [
    {
     "data": {
      "text/plain": [
       "'sell something to'"
      ]
     },
     "execution_count": 107,
     "metadata": {},
     "output_type": "execute_result"
    }
   ],
   "source": [
    "#epaDict = np.load('BehaviorsDict.npy',allow_pickle='TRUE').item()\n",
    "list(epaDict.keys())[408]"
   ]
  },
  {
   "cell_type": "code",
   "execution_count": null,
   "metadata": {},
   "outputs": [],
   "source": [
    "list(epaDict.keys())[0]"
   ]
  },
  {
   "cell_type": "code",
   "execution_count": null,
   "metadata": {},
   "outputs": [],
   "source": [
    "list(epaDict.keys())[282]"
   ]
  },
  {
   "cell_type": "code",
   "execution_count": null,
   "metadata": {},
   "outputs": [],
   "source": [
    "np.mean(filt.filt(sim.data[p1])[500:], axis=0)\n",
    "# 2.92, 2.43, 1.96"
   ]
  },
  {
   "cell_type": "code",
   "execution_count": null,
   "metadata": {},
   "outputs": [],
   "source": [
    "np.mean(filt.filt(sim.data[p2])[500:], axis=0)\n",
    "# 0.02, -0.09, -0.23"
   ]
  },
  {
   "cell_type": "code",
   "execution_count": null,
   "metadata": {},
   "outputs": [],
   "source": [
    "np.mean(filt.filt(sim.data[p3])[500:], axis=0)\n",
    "# -1.4 ,  1.62,  1.5"
   ]
  },
  {
   "cell_type": "code",
   "execution_count": null,
   "metadata": {},
   "outputs": [],
   "source": [
    "np.mean(filt.filt(sim.data[p4])[500:], axis=0)\n",
    "# 2.92, 2.43, 1.96"
   ]
  },
  {
   "cell_type": "code",
   "execution_count": null,
   "metadata": {},
   "outputs": [],
   "source": [
    "np.mean(filt.filt(sim.data[p5])[500:], axis=0)\n",
    "# 0.02, -0.09, -0.23"
   ]
  },
  {
   "cell_type": "code",
   "execution_count": null,
   "metadata": {},
   "outputs": [],
   "source": [
    "np.mean(filt.filt(sim.data[pC])[500:], axis=0)\n",
    "# 2.92, 2.43, 1.96 | 0.02, -0.09, -0.23 | -1.4 ,  1.62,  1.5 | 2.92, 2.43, 1.96 | 0.02, -0.09, -0.23"
   ]
  },
  {
   "cell_type": "code",
   "execution_count": 20,
   "metadata": {},
   "outputs": [
    {
     "name": "stdout",
     "output_type": "stream",
     "text": [
      "deflectionTotal= 4.68541485487331\n",
      "deflectionA= 2.815036245973727\n",
      "deflectionO= 1.6184305467748878\n",
      "Object Emotion:\n",
      "--------------\n",
      "emotion EPA= [ 0.39522824 -2.31158629  0.50500858]\n",
      "Min dist index: 99\n",
      " Key: female\n",
      "Actor Emotion:\n",
      "--------------\n",
      "emotion EPA= [-0.64016499  2.45137926  1.95656578]\n",
      "Min dist index: 23\n",
      " Key: authoritarian\n",
      "Object next behavior:\n",
      "--------------\n",
      "[0.38934866 1.44826028 0.09001935]\n",
      "0.5820382609935563\n"
     ]
    }
   ],
   "source": [
    "expected15EPA = np.array([2.92, 2.43, 1.96 , 0.02, -0.09, -0.23 , -1.4 ,  1.62,  1.5 , 2.92, 2.43, 1.96 , 0.02, -0.09, -0.23])\n",
    "actual15EPA = np.array([2.89531163,  2.38366682,  1.91647332,  0.01126185, -0.07262205,\n",
    "       -0.23894168, -1.43521502,  1.62924219,  1.48672689,  2.85577178,\n",
    "        2.35426866,  1.96934229, -0.02432075, -0.08330136, -0.21271077])\n",
    "arr = np.interp(calc15PointInputToBehaviorDistVector(*expected15EPA), [0, 1.0], [1, 0])\n",
    "print(arr[176])"
   ]
  },
  {
   "cell_type": "code",
   "execution_count": null,
   "metadata": {},
   "outputs": [],
   "source": [
    "print(arr[379])"
   ]
  },
  {
   "cell_type": "code",
   "execution_count": null,
   "metadata": {},
   "outputs": [],
   "source": [
    "#print(np.argsort(arr))"
   ]
  },
  {
   "cell_type": "code",
   "execution_count": 97,
   "metadata": {},
   "outputs": [
    {
     "name": "stdout",
     "output_type": "stream",
     "text": [
      "HSGHS\n",
      "1.7545813966729287\n",
      "2.7486086906925706\n",
      "ASGHS\n",
      "2.193666997161559\n",
      "2.152111307631604\n",
      "HSTHS\n",
      "1.8967584930201042\n",
      "2.2845806161840505\n",
      "ASTHS\n",
      "2.2580106408920795\n",
      "1.807555210050819\n"
     ]
    }
   ],
   "source": [
    "from sklearn.metrics import mean_squared_error\n",
    "#from scipy.spatial import distance\n",
    "import numpy as np\n",
    "\n",
    "def calcEPAError(expectedEPA,actualEPA):\n",
    "    mse = mean_squared_error(expectedEPA, actualEPA)\n",
    "    print(mse)\n",
    "    \n",
    "# def calcEPADist(expectedEPA,actualEPA):\n",
    "#     mse = distance.euclidean(expectedEPA, actualEPA)\n",
    "#     print(mse)\n",
    "\n",
    "def calcEPADistNorm(expectedEPA,actualEPA):\n",
    "    mse = np.linalg.norm(expectedEPA - actualEPA)\n",
    "    print(mse)    \n",
    "    \n",
    "def calc15EPAError(expected15EPA,actual15EPA):\n",
    "    mse = mean_squared_error(expected15EPA, actual15EPA)\n",
    "    print(mse)\n",
    "\n",
    "# 0  happy  stranger  sell something to  happy  stranger [0.82399679 0.66213742 0.19954343]\n",
    "# 1  angry  stranger  sell something to  happy  stranger [0.06602865 0.97940046 0.06056424]\n",
    "# 2  happy  stranger            capture  happy  stranger [0.38934866 1.44826028 0.09001935]\n",
    "# 3  angry  stranger            capture  happy  stranger [-0.17677105  1.66239934  0.16989885]\n",
    "\n",
    "HSGHS = [0.82399679, 0.66213742, 0.19954343]\n",
    "ASGHS = [0.06602865, 0.97940046, 0.06056424]\n",
    "HSTHS = [0.38934866, 1.44826028, 0.09001935]\n",
    "ASTHS = [-0.17677105,  1.66239934,  0.16989885]\n",
    "giveEPA = np.array([1.60, 1.47, 1.55])\n",
    "takeEPA = np.array([-1.40, 1.62, 1.50])\n",
    "\n",
    "print('HSGHS')\n",
    "calcEPADistNorm(HSGHS,giveEPA)  \n",
    "calcEPADistNorm(HSGHS,takeEPA) \n",
    "\n",
    "print('ASGHS')\n",
    "calcEPADistNorm(ASGHS,giveEPA)  \n",
    "calcEPADistNorm(ASGHS,takeEPA)  \n",
    "\n",
    "print('HSTHS')\n",
    "calcEPADistNorm(HSTHS,giveEPA)  \n",
    "calcEPADistNorm(HSTHS,takeEPA)  \n",
    "\n",
    "print('ASTHS')\n",
    "calcEPADistNorm(ASTHS,giveEPA)  \n",
    "calcEPADistNorm(ASTHS,takeEPA)  \n",
    "\n",
    "# expectedEPA = np.array([1.60, 1.47, 1.55])\n",
    "# actualEPA = np.array([0.066, 0.98, 0.06])\n",
    "# #calcEPAError(expectedEPA,actualEPA) \n",
    "# # calcEPADist(expectedEPA,actualEPA)  \n",
    "# calcEPADistNorm(expectedEPA,actualEPA)  \n",
    "\n",
    "# expectedEPA = np.array([-1.40, 1.62, 1.50])\n",
    "# actualEPA = np.array([0.066, 0.98, 0.06])\n",
    "# #calcEPAError(expectedEPA,actualEPA)\n",
    "# # calcEPADist(expectedEPA,actualEPA) \n",
    "# calcEPADistNorm(expectedEPA,actualEPA)  \n",
    "\n",
    "\n",
    "# expected15EPA = np.array([2.92, 2.43, 1.96 , 0.02, -0.09, -0.23 , -1.4 ,  1.62,  1.5 , 2.92, 2.43, 1.96 , 0.02, -0.09, -0.23])\n",
    "# actual15EPA = np.array([2.89531163,  2.38366682,  1.91647332,  0.01126185, -0.07262205,\n",
    "#        -0.23894168, -1.43521502,  1.62924219,  1.48672689,  2.85577178,\n",
    "#         2.35426866,  1.96934229, -0.02432075, -0.08330136, -0.21271077])\n",
    "# calc15EPAError(expected15EPA,actual15EPA)  "
   ]
  },
  {
   "cell_type": "code",
   "execution_count": 19,
   "metadata": {},
   "outputs": [
    {
     "data": {
      "text/plain": [
       "array([0., 0., 0.])"
      ]
     },
     "execution_count": 19,
     "metadata": {},
     "output_type": "execute_result"
    }
   ],
   "source": [
    "modifiersDict['no emotion'] #-1.45, -0.3 ,  1.13, 2.48, 1.96, 1.15, -1.08,  0.85,  1.89, 1.87, 0.82, 1.69, 1.45, -0.76,  2.1"
   ]
  },
  {
   "cell_type": "code",
   "execution_count": null,
   "metadata": {},
   "outputs": [],
   "source": [
    "identitiesDict['child']"
   ]
  },
  {
   "cell_type": "code",
   "execution_count": 21,
   "metadata": {},
   "outputs": [
    {
     "data": {
      "text/plain": [
       "array([ 0.58, -0.52, -0.95])"
      ]
     },
     "execution_count": 21,
     "metadata": {},
     "output_type": "execute_result"
    }
   ],
   "source": [
    "behaviorsDict['obey']"
   ]
  },
  {
   "cell_type": "code",
   "execution_count": null,
   "metadata": {},
   "outputs": [],
   "source": [
    "max(np.mean(filt.filt(sim.data[p_thal])[500:], axis=0))"
   ]
  },
  {
   "cell_type": "code",
   "execution_count": null,
   "metadata": {},
   "outputs": [],
   "source": [
    "np.argmax(np.mean(filt.filt(sim.data[p_thal])[500:], axis=0))"
   ]
  },
  {
   "cell_type": "code",
   "execution_count": null,
   "metadata": {},
   "outputs": [],
   "source": [
    "np.interp(, [0, 4.3], [1, 0])"
   ]
  },
  {
   "cell_type": "code",
   "execution_count": null,
   "metadata": {},
   "outputs": [],
   "source": [
    "max(np.mean(filt.filt(sim.data[p_bgout])[500:], axis=0))"
   ]
  },
  {
   "cell_type": "code",
   "execution_count": null,
   "metadata": {},
   "outputs": [],
   "source": [
    "np.argmax(np.mean(filt.filt(sim.data[p_bgout])[500:], axis=0))"
   ]
  },
  {
   "cell_type": "code",
   "execution_count": null,
   "metadata": {},
   "outputs": [],
   "source": [
    "max(np.mean(filt.filt(sim.data[p_bgin])[500:], axis=0))"
   ]
  },
  {
   "cell_type": "code",
   "execution_count": null,
   "metadata": {},
   "outputs": [],
   "source": [
    "np.argmax(np.mean(filt.filt(sim.data[p_bgin])[500:], axis=0))"
   ]
  },
  {
   "cell_type": "code",
   "execution_count": null,
   "metadata": {},
   "outputs": [],
   "source": [
    "max(np.mean(filt.filt(sim.data[pC])[500:], axis=0))"
   ]
  },
  {
   "cell_type": "code",
   "execution_count": null,
   "metadata": {},
   "outputs": [],
   "source": [
    "np.argmax(np.mean(filt.filt(sim.data[pC])[500:], axis=0))"
   ]
  },
  {
   "cell_type": "code",
   "execution_count": null,
   "metadata": {},
   "outputs": [],
   "source": [
    "vocab_behaviors.parse(\"CAPTURE\").v"
   ]
  },
  {
   "cell_type": "code",
   "execution_count": 16,
   "metadata": {},
   "outputs": [
    {
     "ename": "KeyError",
     "evalue": "'intelligent'",
     "output_type": "error",
     "traceback": [
      "\u001b[1;31m---------------------------------------------------------------------------\u001b[0m",
      "\u001b[1;31mKeyError\u001b[0m                                  Traceback (most recent call last)",
      "\u001b[1;32m<ipython-input-16-d6ec50576549>\u001b[0m in \u001b[0;36m<module>\u001b[1;34m\u001b[0m\n\u001b[1;32m----> 1\u001b[1;33m \u001b[0mbehaviorsDict\u001b[0m\u001b[1;33m[\u001b[0m\u001b[1;34m'intelligent'\u001b[0m\u001b[1;33m]\u001b[0m\u001b[1;33m\u001b[0m\u001b[1;33m\u001b[0m\u001b[0m\n\u001b[0m",
      "\u001b[1;31mKeyError\u001b[0m: 'intelligent'"
     ]
    }
   ],
   "source": [
    "behaviorsDict['intelligent']"
   ]
  },
  {
   "cell_type": "code",
   "execution_count": 26,
   "metadata": {},
   "outputs": [
    {
     "data": {
      "text/plain": [
       "array([-2.25, -0.57, -0.57])"
      ]
     },
     "execution_count": 26,
     "metadata": {},
     "output_type": "execute_result"
    }
   ],
   "source": [
    "vocab_behaviors.parse(\"SELL_SOMETHING_TO\").v"
   ]
  },
  {
   "cell_type": "code",
   "execution_count": null,
   "metadata": {},
   "outputs": [],
   "source": [
    "behaviorsDict['shout at']"
   ]
  },
  {
   "cell_type": "code",
   "execution_count": 34,
   "metadata": {},
   "outputs": [
    {
     "name": "stdout",
     "output_type": "stream",
     "text": [
      "[0, 0, 0, 0]\n",
      "[1. 1. 1. 1.]\n",
      "[-100, 0, -100, 0]\n",
      "[1. 1. 1. 1.]\n"
     ]
    }
   ],
   "source": [
    "def testInhibit(t):\n",
    "    if t<0.5:\n",
    "        return [0]*4\n",
    "    else:\n",
    "        value = [-100]*4 # default all inhibit\n",
    "        value[1] = 0     # allow 'capture'\n",
    "        value[3] = 0    # allow 'sell something to'\n",
    "        return value\n",
    "print(testInhibit(0.2))\n",
    "test= np.interp(testInhibit(0.2), [0, maximum_distance], [1, 0])\n",
    "print(test)\n",
    "\n",
    "print(testInhibit(0.5))\n",
    "test= np.interp(testInhibit(0.5), [0, maximum_distance], [1, 0])\n",
    "print(test)"
   ]
  }
 ],
 "metadata": {
  "kernelspec": {
   "display_name": "Python 3",
   "language": "python",
   "name": "python3"
  },
  "language_info": {
   "codemirror_mode": {
    "name": "ipython",
    "version": 3
   },
   "file_extension": ".py",
   "mimetype": "text/x-python",
   "name": "python",
   "nbconvert_exporter": "python",
   "pygments_lexer": "ipython3",
   "version": "3.7.4"
  }
 },
 "nbformat": 4,
 "nbformat_minor": 2
}
